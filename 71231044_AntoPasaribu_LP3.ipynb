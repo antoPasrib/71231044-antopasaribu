{
 "cells": [
  {
   "cell_type": "code",
   "execution_count": 1,
   "id": "d2280ba1",
   "metadata": {},
   "outputs": [
    {
     "name": "stdout",
     "output_type": "stream",
     "text": [
      "Masukkan suhu tubuh: 35\n",
      "Anda tidak demam\n"
     ]
    }
   ],
   "source": [
    "suhu = input(\"Masukkan suhu tubuh: \")\n",
    "try:\n",
    "   status = int(suhu)\n",
    "   if status >= 38:\n",
    "      print(\"Anda demam\")\n",
    "   elif status >= 35 and status <= 37:\n",
    "      print(\"Anda tidak demam\")\n",
    "except:\n",
    "   print(\"Input yang anda masukkan salah. Silahkan coba lagi!\")"
   ]
  },
  {
   "cell_type": "code",
   "execution_count": 1,
   "id": "38b2d487",
   "metadata": {},
   "outputs": [
    {
     "name": "stdout",
     "output_type": "stream",
     "text": [
      "Masukkan bilangan: 5\n",
      "Positif\n"
     ]
    }
   ],
   "source": [
    "bilangan = input(\"Masukkan bilangan: \")\n",
    "try:\n",
    "    angka = int(bilangan)\n",
    "    if angka > 0:\n",
    "        print(\"Positif\")\n",
    "    elif angka < 0:\n",
    "        print(\"Negatif\")\n",
    "    elif angka == 0:\n",
    "        print(\"Nol\")\n",
    "except:\n",
    "    print(\"Bilangan yang anda masukkan salah!\")"
   ]
  },
  {
   "cell_type": "code",
   "execution_count": 2,
   "id": "f9229494",
   "metadata": {},
   "outputs": [
    {
     "name": "stdout",
     "output_type": "stream",
     "text": [
      "Masukkan bilangan a: 5\n",
      "Masukkan bilangan b: 10\n",
      "Masukkan bilangan c: 7\n",
      "Terbesar adalah 10\n"
     ]
    }
   ],
   "source": [
    "a = input(\"Masukkan bilangan a: \")\n",
    "b = input(\"Masukkan bilangan b: \")\n",
    "c = input(\"Masukkan bilangan c: \")\n",
    "\n",
    "try:\n",
    "    terbesarA = int(a)\n",
    "    terbesarB = int(b)\n",
    "    terbesarC = int(c)\n",
    "    if terbesarA > terbesarB and terbesarA > terbesarC:\n",
    "        print(\"Terbesar adalah\", terbesarA)\n",
    "    elif terbesarB > terbesarA and terbesarB > terbesarC:\n",
    "        print(\"Terbesar adalah\", terbesarB)\n",
    "    elif terbesarC > terbesarB and terbesarC > terbesarA:\n",
    "        print(\"Terbesar adalah\", terbesarC)\n",
    "except:\n",
    "    print(\"Bilangan yang anda masukkan salah!\")"
   ]
  },
  {
   "cell_type": "code",
   "execution_count": 3,
   "id": "2679a288",
   "metadata": {},
   "outputs": [
    {
     "name": "stdout",
     "output_type": "stream",
     "text": [
      "Masukkan Bulan(1-12): 6\n",
      "Jumlah hari:  30\n"
     ]
    }
   ],
   "source": [
    "# jumlah hari yang ada pada setiap bulan tahun 2020\n",
    "jumlah_hari = [31, 28, 31, 30, 31, 30, 31, 31, 30, 31, 30, 31]\n",
    "\n",
    "bulan = int(input(\"Masukkan Bulan(1-12): \"))\n",
    "if bulan >= 1 and bulan <= 12 :\n",
    "    print(\"Jumlah hari: \", jumlah_hari[bulan - 1])\n",
    "else: \n",
    "    print(\"Bulan yang dimasukkan tidak valid\")\n",
    "\n"
   ]
  },
  {
   "cell_type": "code",
   "execution_count": 4,
   "id": "deba7492",
   "metadata": {},
   "outputs": [
    {
     "name": "stdout",
     "output_type": "stream",
     "text": [
      "Masukkan sisi 1: 2\n",
      "Masukkan sisi 2: 6\n",
      "Masukkan sisi 3: 2\n",
      "2 sisi sama\n"
     ]
    }
   ],
   "source": [
    "# Pengguna memasukkan panjang sisi-sisi segitiga \n",
    "sisi1 = int(input(\"Masukkan sisi 1: \"))\n",
    "sisi2 = int(input(\"Masukkan sisi 2: \"))\n",
    "sisi3 = int(input(\"Masukkan sisi 3: \"))\n",
    "\n",
    "# Periksa apakah semua sisi sama panjang\n",
    "if sisi1 == sisi2 == sisi3:\n",
    "    print(\"3 sisi sama\") \n",
    "elif sisi1 == sisi2 or sisi1 == sisi3 or sisi2 == sisi3:\n",
    "    print(\"2 sisi sama\")\n",
    "else:\n",
    "    print(\"Tidak ada yang sama\")"
   ]
  },
  {
   "cell_type": "code",
   "execution_count": null,
   "id": "5590de27",
   "metadata": {},
   "outputs": [],
   "source": []
  }
 ],
 "metadata": {
  "kernelspec": {
   "display_name": "Python 3 (ipykernel)",
   "language": "python",
   "name": "python3"
  },
  "language_info": {
   "codemirror_mode": {
    "name": "ipython",
    "version": 3
   },
   "file_extension": ".py",
   "mimetype": "text/x-python",
   "name": "python",
   "nbconvert_exporter": "python",
   "pygments_lexer": "ipython3",
   "version": "3.11.5"
  }
 },
 "nbformat": 4,
 "nbformat_minor": 5
}
