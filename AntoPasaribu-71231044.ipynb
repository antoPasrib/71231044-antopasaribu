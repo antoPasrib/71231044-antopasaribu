{
 "cells": [
  {
   "cell_type": "code",
   "execution_count": 1,
   "id": "1ce7d5f5",
   "metadata": {},
   "outputs": [
    {
     "name": "stdout",
     "output_type": "stream",
     "text": [
      "=========Program menghitung berat badan=========\n",
      "Masukkan berat badan anda (kg): 60\n",
      "\n",
      "Masukkan tinggi badan anda (m): 1.7\n",
      "\n",
      "Body Mass Indexnya            : 20.76\n"
     ]
    }
   ],
   "source": [
    "# Inputan untuk memasukkan berat badan\n",
    "print(\"=========Program menghitung berat badan=========\")\n",
    "berat_badan = float(input(\"Masukkan berat badan anda (kg): \"))\n",
    "print(\"\")\n",
    "tinggi_badan = float(input(\"Masukkan tinggi badan anda (m): \"))\n",
    "print(\"\")\n",
    "\n",
    "# Hitung menggunakan rumus BMI \n",
    "tinggi_kuadrat = tinggi_badan**2\n",
    "body_mass_index = berat_badan / tinggi_kuadrat \n",
    "\n",
    "# Tampilkan hasil\n",
    "print(f\"Body Mass Indexnya            :{body_mass_index: .2f}\")"
   ]
  },
  {
   "cell_type": "code",
   "execution_count": 2,
   "id": "44136b73",
   "metadata": {},
   "outputs": [
    {
     "name": "stdout",
     "output_type": "stream",
     "text": [
      "Masukkan nilai x (Bilangan bulat): 6\n",
      "Hasil dari f(x): 446.50\n"
     ]
    }
   ],
   "source": [
    "# Ini inputan pengguna\n",
    "x = int(input(\"Masukkan nilai x (Bilangan bulat): \"))\n",
    "\n",
    "# Hitung fungsi f(x) nya\n",
    "hasil = 2 * (x)**3 + 2 * (x) + (15 / x)\n",
    "\n",
    "# Tampilkan hasil\n",
    "print(f\"Hasil dari f(x):{hasil: .2f}\")"
   ]
  },
  {
   "cell_type": "code",
   "execution_count": 3,
   "id": "4401790a",
   "metadata": {},
   "outputs": [
    {
     "name": "stdout",
     "output_type": "stream",
     "text": [
      "\n",
      "Masukkan gaji/jam yang anda inginkan                : Rp.100000\n",
      "\n",
      "Masukkan jam kerja yang dilakukan dalam seminggu    : 10\n",
      "====================================================================\n",
      "Pendapatan Budi sebelum bayar pajak adalah          : Rp. 5000000.00\n",
      "\n",
      "Pendapatan Budi setelah bayar pajak adalah          : Rp. 4300000.00\n",
      "\n",
      "Jumlah uang Budi untuk membeli pakaian dan aksesoris: Rp. 430000.00\n",
      "\n",
      "Jumlah uang Budi untuk membeli alat tulis           : Rp. 43000.00\n",
      "\n",
      "Jumlah uang Budi yang disedekahkan                  : Rp. 956750.00\n",
      "\n",
      "Jumlah uang yang diterima anak yatim                : Rp. 287025.00\n",
      "\n",
      "Jumlah uang yang diterima kaum dhuafa               : Rp. 669725.00\n"
     ]
    }
   ],
   "source": [
    "print(\"\")\n",
    "gaji_per_jam = float(input(\"Masukkan gaji/jam yang anda inginkan                : Rp.\"))\n",
    "print(\"\")\n",
    "jumlah_jam_kerja = float(input(\"Masukkan jam kerja yang dilakukan dalam seminggu    : \"))\n",
    "print(\"====================================================================\")\n",
    "\n",
    "total_pajak = 14 / 100\n",
    "beli_pakaian_aksesoris = 10 / 100\n",
    "beli_alat_tulis = 1 / 100\n",
    "uang_sedekah = 25 / 100\n",
    "sedekah_anak_yatim = 30 / 100\n",
    "\n",
    "pendapatan_sebelum_bayar_pajak = gaji_per_jam * jumlah_jam_kerja * 5\n",
    "jumlah_pajak = total_pajak * pendapatan_sebelum_bayar_pajak\n",
    "pendapatan_setelah_bayar_pajak = pendapatan_sebelum_bayar_pajak - jumlah_pajak\n",
    "\n",
    "uang_beli_pakaian_aksesoris = beli_pakaian_aksesoris * pendapatan_setelah_bayar_pajak\n",
    "uang_beli_alat_tulis = beli_alat_tulis * pendapatan_setelah_bayar_pajak\n",
    "sisa_uang = pendapatan_setelah_bayar_pajak - uang_beli_pakaian_aksesoris - uang_beli_alat_tulis\n",
    "jumlah_uang_sedekah = sisa_uang * uang_sedekah\n",
    "sedekah_anak_yatim = jumlah_uang_sedekah * sedekah_anak_yatim\n",
    "sedekah_kaum_dhuafa = jumlah_uang_sedekah - sedekah_anak_yatim\n",
    "\n",
    "print(f\"Pendapatan Budi sebelum bayar pajak adalah          : Rp.{pendapatan_sebelum_bayar_pajak: .2f}\")    \n",
    "print(\"\")\n",
    "print(f\"Pendapatan Budi setelah bayar pajak adalah          : Rp.{pendapatan_setelah_bayar_pajak: .2f}\")\n",
    "print(\"\")\n",
    "print(f\"Jumlah uang Budi untuk membeli pakaian dan aksesoris: Rp.{uang_beli_pakaian_aksesoris: .2f}\")\n",
    "print(\"\")\n",
    "print(f\"Jumlah uang Budi untuk membeli alat tulis           : Rp.{uang_beli_alat_tulis: .2f}\")\n",
    "print(\"\")\n",
    "print(f\"Jumlah uang Budi yang disedekahkan                  : Rp.{jumlah_uang_sedekah: .2f}\")\n",
    "print(\"\")\n",
    "print(f\"Jumlah uang yang diterima anak yatim                : Rp.{sedekah_anak_yatim: .2f}\")\n",
    "print(\"\")\n",
    "print(f\"Jumlah uang yang diterima kaum dhuafa               : Rp.{sedekah_kaum_dhuafa: .2f}\")"
   ]
  },
  {
   "cell_type": "code",
   "execution_count": null,
   "id": "26d13ca3",
   "metadata": {},
   "outputs": [],
   "source": []
  }
 ],
 "metadata": {
  "kernelspec": {
   "display_name": "Python 3 (ipykernel)",
   "language": "python",
   "name": "python3"
  },
  "language_info": {
   "codemirror_mode": {
    "name": "ipython",
    "version": 3
   },
   "file_extension": ".py",
   "mimetype": "text/x-python",
   "name": "python",
   "nbconvert_exporter": "python",
   "pygments_lexer": "ipython3",
   "version": "3.11.5"
  }
 },
 "nbformat": 4,
 "nbformat_minor": 5
}
