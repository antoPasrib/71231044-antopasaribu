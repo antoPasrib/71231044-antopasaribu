{
 "cells": [
  {
   "cell_type": "code",
   "execution_count": 10,
   "id": "f2b3381e",
   "metadata": {},
   "outputs": [
    {
     "name": "stdout",
     "output_type": "stream",
     "text": [
      "Masukkan angka pertama: 1\n",
      "Masukkan angka kedua: 2\n",
      "Masukkan angka ketiga: 3\n",
      "True\n"
     ]
    }
   ],
   "source": [
    "def cetak_angka(a, b, c):\n",
    "    if a != b and a != b and b != c:\n",
    "        if a + b == c or a + c == b or b + c == a:\n",
    "            return True\n",
    "        return False\n",
    "    \n",
    "a = int(input(\"Masukkan angka pertama: \"))\n",
    "b = int(input(\"Masukkan angka kedua: \"))\n",
    "c = int(input(\"Masukkan angka ketiga: \"))\n",
    "print(cetak_angka(a, b, c))"
   ]
  },
  {
   "cell_type": "code",
   "execution_count": 11,
   "id": "e22ecac1",
   "metadata": {},
   "outputs": [
    {
     "name": "stdout",
     "output_type": "stream",
     "text": [
      "Masukkan angka pertama: 2\n",
      "Masukkan angka kedua: 3\n",
      "Masukkan angka ketiga: 4\n",
      "False\n"
     ]
    }
   ],
   "source": [
    "def cetak_angka(a, b, c):\n",
    "    if a != b and a != b and b != c:\n",
    "        if a + b == c or a + c == b or b + c == a:\n",
    "            return True\n",
    "        return False\n",
    "    \n",
    "a = int(input(\"Masukkan angka pertama: \"))\n",
    "b = int(input(\"Masukkan angka kedua: \"))\n",
    "c = int(input(\"Masukkan angka ketiga: \"))\n",
    "print(cetak_angka(a, b, c))"
   ]
  },
  {
   "cell_type": "code",
   "execution_count": 12,
   "id": "a765629e",
   "metadata": {},
   "outputs": [
    {
     "name": "stdout",
     "output_type": "stream",
     "text": [
      "Masukkan Bilangan Pertama: 30\n",
      "Masukkan Bilangan Kedua: 20\n",
      "Masukkan Bilangan Ketiga: 18\n",
      "True\n"
     ]
    }
   ],
   "source": [
    "def cek_digit_bilangan(a, b, c):\n",
    "    digit_a = a % 10\n",
    "    digit_b = b % 10\n",
    "    digit_c = c % 10\n",
    "\n",
    "    if digit_a == digit_b or digit_a == digit_c or digit_b == digit_c:\n",
    "        return True\n",
    "    else:\n",
    "        return False\n",
    "    \n",
    "input1 = int(input(\"Masukkan Bilangan Pertama: \"))\n",
    "input2 = int(input(\"Masukkan Bilangan Kedua: \"))\n",
    "input3 = int(input(\"Masukkan Bilangan Ketiga: \"))\n",
    "\n",
    "hasil = cek_digit_bilangan(input1, input2, input3)\n",
    "print(hasil)"
   ]
  },
  {
   "cell_type": "code",
   "execution_count": 13,
   "id": "2317f630",
   "metadata": {},
   "outputs": [
    {
     "name": "stdout",
     "output_type": "stream",
     "text": [
      "Masukkan Bilangan Pertama: 145\n",
      "Masukkan Bilangan Kedua: 5\n",
      "Masukkan Bilangan Ketiga: 100\n",
      "True\n"
     ]
    }
   ],
   "source": [
    "def cek_digit_bilangan(a, b, c):\n",
    "    digit_a = a % 10\n",
    "    digit_b = b % 10\n",
    "    digit_c = c % 10\n",
    "\n",
    "    if digit_a == digit_b or digit_a == digit_c or digit_b == digit_c:\n",
    "        return True\n",
    "    else:\n",
    "        return False\n",
    "    \n",
    "input1 = int(input(\"Masukkan Bilangan Pertama: \"))\n",
    "input2 = int(input(\"Masukkan Bilangan Kedua: \"))\n",
    "input3 = int(input(\"Masukkan Bilangan Ketiga: \"))\n",
    "\n",
    "hasil = cek_digit_bilangan(input1, input2, input3)\n",
    "print(hasil)"
   ]
  },
  {
   "cell_type": "code",
   "execution_count": 14,
   "id": "cf829eaf",
   "metadata": {},
   "outputs": [
    {
     "name": "stdout",
     "output_type": "stream",
     "text": [
      "Masukkan suhu dalam celcius: 100\n",
      "Suhu dalam Fahrenheit adalah:  212.00\n",
      "Suhu dalam Reamur adalah:  80.00\n"
     ]
    }
   ],
   "source": [
    "# Fungsi konversi celcius to fahrenheit\n",
    "celcius_fahrenheit = lambda c: 9 / 5 * c + 32\n",
    "\n",
    "# Fungsi konversi celcius to reamur\n",
    "celcius_reamur = lambda c: 0.8 * c\n",
    "\n",
    "# Contoh penggunaan\n",
    "input_celcius = float(input(\"Masukkan suhu dalam celcius: \"))\n",
    "\n",
    "# Konversi ke fahrenheit\n",
    "output_fahrenheit = celcius_fahrenheit(input_celcius)\n",
    "print(f\"Suhu dalam Fahrenheit adalah: {output_fahrenheit: .2f}\")\n",
    "\n",
    "# Konversi ke Reamur\n",
    "output_reamur = celcius_reamur(input_celcius)\n",
    "print(f\"Suhu dalam Reamur adalah: {output_reamur: .2f}\")"
   ]
  },
  {
   "cell_type": "code",
   "execution_count": 15,
   "id": "018bbd1f",
   "metadata": {},
   "outputs": [
    {
     "name": "stdout",
     "output_type": "stream",
     "text": [
      "Masukkan suhu dalam celcius: 80\n",
      "Suhu dalam Fahrenheit adalah:  176.00\n",
      "Suhu dalam Reamur adalah:  64.00\n"
     ]
    }
   ],
   "source": [
    "# Fungsi konversi celcius to fahrenheit\n",
    "celcius_fahrenheit = lambda c: 9 / 5 * c + 32\n",
    "\n",
    "# Fungsi konversi celcius to reamur\n",
    "celcius_reamur = lambda c: 0.8 * c\n",
    "\n",
    "# Contoh penggunaan\n",
    "input_celcius = float(input(\"Masukkan suhu dalam celcius: \"))\n",
    "\n",
    "# Konversi ke fahrenheit\n",
    "output_fahrenheit = celcius_fahrenheit(input_celcius)\n",
    "print(f\"Suhu dalam Fahrenheit adalah: {output_fahrenheit: .2f}\")\n",
    "\n",
    "# Konversi ke Reamur\n",
    "output_reamur = celcius_reamur(input_celcius)\n",
    "print(f\"Suhu dalam Reamur adalah: {output_reamur: .2f}\")"
   ]
  },
  {
   "cell_type": "code",
   "execution_count": null,
   "id": "19be682e",
   "metadata": {},
   "outputs": [],
   "source": []
  }
 ],
 "metadata": {
  "kernelspec": {
   "display_name": "Python 3 (ipykernel)",
   "language": "python",
   "name": "python3"
  },
  "language_info": {
   "codemirror_mode": {
    "name": "ipython",
    "version": 3
   },
   "file_extension": ".py",
   "mimetype": "text/x-python",
   "name": "python",
   "nbconvert_exporter": "python",
   "pygments_lexer": "ipython3",
   "version": "3.11.5"
  }
 },
 "nbformat": 4,
 "nbformat_minor": 5
}
